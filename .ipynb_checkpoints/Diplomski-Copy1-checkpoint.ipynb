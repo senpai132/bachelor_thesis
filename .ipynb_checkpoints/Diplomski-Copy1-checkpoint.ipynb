{
 "cells": [
  {
   "cell_type": "code",
   "execution_count": 212,
   "metadata": {},
   "outputs": [],
   "source": [
    "import random\n",
    "import numpy as np\n",
    "import math\n",
    "import copy\n",
    "import seaborn as sns"
   ]
  },
  {
   "cell_type": "code",
   "execution_count": 205,
   "metadata": {},
   "outputs": [],
   "source": [
    "class ImportantValue:\n",
    "    def __init__(self, position, value):\n",
    "        self.position = position\n",
    "        self.value = value"
   ]
  },
  {
   "cell_type": "code",
   "execution_count": 206,
   "metadata": {},
   "outputs": [],
   "source": [
    "def TestFitness(array):\n",
    "    return sum(array)"
   ]
  },
  {
   "cell_type": "code",
   "execution_count": 207,
   "metadata": {},
   "outputs": [],
   "source": [
    "def UpdateBestValues(positions_of_wolves, fitness_function, alpha, beta, delta):\n",
    "    for wolf in positions_of_wolves:\n",
    "        \n",
    "            wolfs_fitness = fitness_function(wolf)\n",
    "            \n",
    "            if(wolfs_fitness < alpha.value):\n",
    "                delta.value = beta.value\n",
    "                delta.position = beta.position.copy()#copy.deepcopy(beta.position)\n",
    "                \n",
    "                beta.value = alpha.value\n",
    "                beta.position = alpha.position.copy()#copy.deepcopy(alpha.position)\n",
    "                \n",
    "                alpha.value = wolfs_fitness\n",
    "                alpha.position = wolf.copy()#copy.deepcopy(wolf)\n",
    "                \n",
    "            if(wolfs_fitness > alpha.value and wolfs_fitness < beta.value):\n",
    "                delta.value = beta.value\n",
    "                delta.position = beta.position.copy()#copy.deepcopy(beta.position)\n",
    "                \n",
    "                beta.value = wolfs_fitness\n",
    "                beta.position = wolf.copy()#copy.deepcopy(wolf)\n",
    "                \n",
    "            if(wolfs_fitness > alpha.value and wolfs_fitness > beta.value and \n",
    "               wolfs_fitness < delta.value):\n",
    "                delta.value = wolfs_fitness\n",
    "                delta.position = wolf.copy()#copy.deepcopy(wolf)\n",
    "                "
   ]
  },
  {
   "cell_type": "code",
   "execution_count": 208,
   "metadata": {},
   "outputs": [],
   "source": [
    "def CalculateBestPosition(wolf, dim, important_position, a):\n",
    "    r1 = random.random()\n",
    "    r2 = random.random()\n",
    "\n",
    "    C = 2 * r2\n",
    "    A = (2 * a * r1) - a\n",
    "\n",
    "    Dx = (C * important_position.position[dim]) - wolf[dim]\n",
    "    X = important_position.position[dim] - (A * Dx)\n",
    "    #print X\n",
    "    return X"
   ]
  },
  {
   "cell_type": "code",
   "execution_count": 227,
   "metadata": {},
   "outputs": [],
   "source": [
    "def GWO(pack_size, number_of_dimensions, number_of_iterations, fitness_function, lower_bound, \n",
    "        upper_bound):\n",
    "    \n",
    "    convergency = []\n",
    "    \n",
    "    if not isinstance(lower_bound, list):\n",
    "        lower_bound = [lower_bound] * number_of_dimensions\n",
    "    if not isinstance(upper_bound, list):\n",
    "        upper_bound = [upper_bound] * number_of_dimensions\n",
    "    \n",
    "    alpha_position = np.zeros(number_of_dimensions)\n",
    "    alpha_value = float('inf')\n",
    "    alpha = ImportantValue(alpha_position, alpha_value)\n",
    "    \n",
    "    beta_position = np.zeros(number_of_dimensions)\n",
    "    beta_value = float('inf')\n",
    "    beta = ImportantValue(beta_position, beta_value)\n",
    "    \n",
    "    delta_position = np.zeros(number_of_dimensions)\n",
    "    delta_value = float('inf')\n",
    "    delta = ImportantValue(delta_position, delta_value)\n",
    "    \n",
    "    positions_of_wolves = np.zeros((pack_size, number_of_dimensions))\n",
    "                                       \n",
    "    for i in range(number_of_dimensions):\n",
    "        positions_of_wolves[:, i] = np.random.uniform(lower_bound[i], upper_bound[i], \n",
    "                                                pack_size)\n",
    "    \n",
    "    #for w in positions_of_wolves:\n",
    "        #print(fitness_function(w))\n",
    "    #print(positions_of_wolves)\n",
    "    \n",
    "    UpdateBestValues(positions_of_wolves, fitness_function, alpha, beta, delta)\n",
    "    \n",
    "    for iter in range(0, number_of_iterations):\n",
    "        a = 2 - (2/number_of_iterations) * iter\n",
    "        \n",
    "        for wolf in positions_of_wolves:\n",
    "            for dim in range(number_of_dimensions):\n",
    "                X1 = CalculateBestPosition(wolf, dim, alpha, a)\n",
    "                X2 = CalculateBestPosition(wolf, dim, beta, a)\n",
    "                X3 = CalculateBestPosition(wolf, dim, delta, a)\n",
    "                \n",
    "                wolf[dim] = (X1 + X2 + X3) / 3\n",
    "                \n",
    "                wolf[dim] = np.clip(wolf[dim], lower_bound[dim], upper_bound[dim])\n",
    "                \n",
    "#         for w in range(0, pack_size):\n",
    "#             for j in range(0, number_of_dimensions):\n",
    "#                 positions_of_wolves[w][j] = np.clip(positions_of_wolves[w][j], lower_bound[j], upper_bound[j])\n",
    "#         print(iter)\n",
    "#         print(alpha.value)\n",
    "#         print(beta.value)\n",
    "#         print(delta.value)\n",
    "        \n",
    "        UpdateBestValues(positions_of_wolves, fitness_function, alpha, beta, delta)\n",
    "        convergency.append(alpha.value)\n",
    "#     print(\"ajaja\")\n",
    "#     print(alpha.value)\n",
    "#     print(alpha.position)\n",
    "#     print('heja')\n",
    "#     print(positions_of_wolves) \n",
    "    return alpha, convergency"
   ]
  },
  {
   "cell_type": "code",
   "execution_count": 230,
   "metadata": {},
   "outputs": [
    {
     "name": "stdout",
     "output_type": "stream",
     "text": [
      "-500.0\n",
      "[-100. -100. -100. -100. -100.]\n"
     ]
    },
    {
     "data": {
      "text/plain": [
       "<matplotlib.axes._subplots.AxesSubplot at 0x17bffc606a0>"
      ]
     },
     "execution_count": 230,
     "metadata": {},
     "output_type": "execute_result"
    },
    {
     "data": {
      "image/png": "[encoded data removed]",
      "text/plain": [
       "<Figure size 432x288 with 1 Axes>"
      ]
     },
     "metadata": {
      "needs_background": "light"
     },
     "output_type": "display_data"
    }
   ],
   "source": [
    "alpha, convergency = GWO(10, 5, 21, TestFitness, -100, 100)\n",
    "print(alpha.value)\n",
    "print(alpha.position)\n",
    "sns.color_palette(\"bright\")\n",
    "sns.lineplot(data=convergency)"
   ]
  },
  {
   "cell_type": "code",
   "execution_count": null,
   "metadata": {},
   "outputs": [],
   "source": []
  }
 ],
 "metadata": {
  "kernelspec": {
   "display_name": "Python 3",
   "language": "python",
   "name": "python3"
  },
  "language_info": {
   "codemirror_mode": {
    "name": "ipython",
    "version": 3
   },
   "file_extension": ".py",
   "mimetype": "text/x-python",
   "name": "python",
   "nbconvert_exporter": "python",
   "pygments_lexer": "ipython3",
   "version": "3.6.8"
  }
 },
 "nbformat": 4,
 "nbformat_minor": 2
}
