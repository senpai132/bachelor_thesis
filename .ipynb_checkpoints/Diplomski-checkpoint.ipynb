{
 "cells": [
  {
   "cell_type": "code",
   "execution_count": 31,
   "metadata": {},
   "outputs": [],
   "source": [
    "import random\n",
    "import numpy as np\n",
    "import math\n",
    "import copy\n",
    "from collections import namedtuple"
   ]
  },
  {
   "cell_type": "code",
   "execution_count": null,
   "metadata": {},
   "outputs": [],
   "source": []
  },
  {
   "cell_type": "code",
   "execution_count": null,
   "metadata": {},
   "outputs": [],
   "source": []
  },
  {
   "cell_type": "code",
   "execution_count": 32,
   "metadata": {},
   "outputs": [],
   "source": [
    "def TestFitness(array):\n",
    "    return sum(array)"
   ]
  },
  {
   "cell_type": "code",
   "execution_count": 33,
   "metadata": {},
   "outputs": [],
   "source": [
    "def UpdateBestValues(positions_of_wolves, fitness_function, alpha, beta, delta):\n",
    "    for wolf in positions_of_wolves:\n",
    "            wolfs_fitness = fitness_function(wolf)\n",
    "            \n",
    "            if(wolfs_fitness < alpha.value):\n",
    "                delta.value = beta.value\n",
    "                delta.position = copy.deepcopy(beta.position)\n",
    "                \n",
    "                beta.value = alpha.value\n",
    "                beta.position = copy.deepcopy(alpha.position)\n",
    "                \n",
    "                alpha.value = wolfs_fitness\n",
    "                alpha.position = copy.deepcopy(wolf)\n",
    "                \n",
    "            if(wolfs_fitness > alpha.value and wolfs_fitness < beta.value):\n",
    "                delta.value = beta.value\n",
    "                delta.position = copy.deepcopy(beta.position)\n",
    "                \n",
    "                beta.value = wolfs_fitness\n",
    "                beta.position = copy.deepcopy(wolf)\n",
    "                \n",
    "            if(wolfs_fitness > alpha.value and wolfs_fitness > beta.value and \n",
    "               wolfs_fitness < delta.value):\n",
    "                delta.value = wolfs_fitness\n",
    "                delta.position = copy.deepcopy(wolf)\n",
    "                "
   ]
  },
  {
   "cell_type": "code",
   "execution_count": 34,
   "metadata": {},
   "outputs": [],
   "source": [
    "def GWO(pack_size, number_of_dimensions, number_of_iterations, fitness_function, lower_bound, \n",
    "        upper_bound):\n",
    "    \n",
    "    ImportantValue = namedtuple('ImportantValue', ['position', 'value'])\n",
    "    \n",
    "    alpha_position = np.zeros(number_of_dimensions)\n",
    "    alpha_value = float('inf')\n",
    "    alpha = ImportantValue(alpha_position, alpha_value)\n",
    "    \n",
    "    beta_position = np.zeros(number_of_dimensions)\n",
    "    beta_value = float('inf')\n",
    "    beta = ImportantValue(beta_position, beta_value)\n",
    "    \n",
    "    delta_position = np.zeros(number_of_dimensions)\n",
    "    delta_value = float('inf')\n",
    "    delta = ImportantValue(delta_position, delta_value)\n",
    "    \n",
    "    positions_of_wolves = np.random.uniform(low = lower_bound, high = upper_bound, \n",
    "                                            size = (pack_size, number_of_dimensions))\n",
    "    \n",
    "    #for w in positions_of_wolves:\n",
    "        #print(fitness_function(w))\n",
    "    print(positions_of_wolves)\n",
    "    print(alpha.position)\n",
    "    \n",
    "    UpdateBestValues(positions_of_wolves, fitness_function, alpha, beta, delta)\n",
    "    \n",
    "    print(\"alfa\")\n",
    "    print(alpha.value)\n",
    "    print(alpha.position)\n",
    "    print(\"beta\")\n",
    "    print(beta.value)\n",
    "    print(beta.position)\n",
    "    print(\"delta\")\n",
    "    print(delta.value)\n",
    "    print(delta.position)\n",
    "    \n",
    "#     for iter in range(0, number_of_iterations):\n",
    "#         a = 2 - (2/number_of_iterations) * iter\n",
    "        \n",
    "        \n",
    "        \n",
    "#         for wolf in positions_of_wolves:\n",
    "#             for dim in range(number_of_dimensions):\n",
    "                \n",
    "#                 r1 = random.random()\n",
    "#                 r2 = random.random()\n",
    "                \n",
    "#                 C1 = 2 * r2\n",
    "#                 A1 = (2 * a * r1) - a\n",
    "                \n",
    "#                 d_alpha = (C1 * alpha_position[dim]) - wolf[dim]\n",
    "#                 X1 = alpha_position[dim] - (A1 * d_alpha)\n",
    "#                 #***\n",
    "#                 r1 = random.random()\n",
    "#                 r2 = random.random()\n",
    "                \n",
    "#                 C2 = 2 * r2\n",
    "#                 A2 = (2 * a * r1) - a\n",
    "                \n",
    "#                 d_beta = (C2 * beta_position[dim]) - wolf[dim]\n",
    "#                 X2 = beta_position[dim] - (A2 * d_beta)\n",
    "#                 #***\n",
    "#                 r1 = random.random()\n",
    "#                 r2 = random.random()\n",
    "                \n",
    "#                 C3 = 2 * r2\n",
    "#                 A3 = (2 * a * r1) - a\n",
    "                \n",
    "#                 d_delta = (C3 * delta_position[dim]) - wolf[dim]\n",
    "#                 X3 = delta_position[dim] - (A3 * d_delta)\n",
    "#                 #***\n",
    "#                 wolf[dim] = (X1 + X2 + X3) / 3\n",
    "#                 #print(X1)\n",
    "        \n",
    "#         print(iter)\n",
    "#         print(alpha_position)\n",
    "#         print(beta_position)\n",
    "#         print(delta_position)\n",
    "#     print(\"ajaja\")\n",
    "#     print(positions_of_wolves)  "
   ]
  },
  {
   "cell_type": "code",
   "execution_count": 35,
   "metadata": {},
   "outputs": [
    {
     "name": "stdout",
     "output_type": "stream",
     "text": [
      "[[ 84.68950024  91.42029774  58.03803058]\n",
      " [-66.48387048  85.69855701 -29.74085564]\n",
      " [-23.96370046  56.87785475  -5.02332743]\n",
      " [-54.19064312  52.99841868  94.20376403]\n",
      " [ 76.51545585 -83.90450973   9.10343688]]\n",
      "[0. 0. 0.]\n"
     ]
    },
    {
     "ename": "AttributeError",
     "evalue": "can't set attribute",
     "output_type": "error",
     "traceback": [
      "\u001b[1;31m---------------------------------------------------------------------------\u001b[0m",
      "\u001b[1;31mAttributeError\u001b[0m                            Traceback (most recent call last)",
      "\u001b[1;32m<ipython-input-35-8c609a8a5715>\u001b[0m in \u001b[0;36m<module>\u001b[1;34m\u001b[0m\n\u001b[1;32m----> 1\u001b[1;33m \u001b[0mGWO\u001b[0m\u001b[1;33m(\u001b[0m\u001b[1;36m5\u001b[0m\u001b[1;33m,\u001b[0m \u001b[1;36m3\u001b[0m\u001b[1;33m,\u001b[0m \u001b[1;36m5\u001b[0m\u001b[1;33m,\u001b[0m \u001b[0mTestFitness\u001b[0m\u001b[1;33m,\u001b[0m \u001b[1;33m-\u001b[0m\u001b[1;36m100\u001b[0m\u001b[1;33m,\u001b[0m \u001b[1;36m100\u001b[0m\u001b[1;33m)\u001b[0m\u001b[1;33m\u001b[0m\u001b[1;33m\u001b[0m\u001b[0m\n\u001b[0m",
      "\u001b[1;32m<ipython-input-34-73a2c2475059>\u001b[0m in \u001b[0;36mGWO\u001b[1;34m(pack_size, number_of_dimensions, number_of_iterations, fitness_function, lower_bound, upper_bound)\u001b[0m\n\u001b[0;32m     24\u001b[0m     \u001b[0mprint\u001b[0m\u001b[1;33m(\u001b[0m\u001b[0malpha\u001b[0m\u001b[1;33m.\u001b[0m\u001b[0mposition\u001b[0m\u001b[1;33m)\u001b[0m\u001b[1;33m\u001b[0m\u001b[1;33m\u001b[0m\u001b[0m\n\u001b[0;32m     25\u001b[0m \u001b[1;33m\u001b[0m\u001b[0m\n\u001b[1;32m---> 26\u001b[1;33m     \u001b[0mUpdateBestValues\u001b[0m\u001b[1;33m(\u001b[0m\u001b[0mpositions_of_wolves\u001b[0m\u001b[1;33m,\u001b[0m \u001b[0mfitness_function\u001b[0m\u001b[1;33m,\u001b[0m \u001b[0malpha\u001b[0m\u001b[1;33m,\u001b[0m \u001b[0mbeta\u001b[0m\u001b[1;33m,\u001b[0m \u001b[0mdelta\u001b[0m\u001b[1;33m)\u001b[0m\u001b[1;33m\u001b[0m\u001b[1;33m\u001b[0m\u001b[0m\n\u001b[0m\u001b[0;32m     27\u001b[0m \u001b[1;33m\u001b[0m\u001b[0m\n\u001b[0;32m     28\u001b[0m     \u001b[0mprint\u001b[0m\u001b[1;33m(\u001b[0m\u001b[1;34m\"alfa\"\u001b[0m\u001b[1;33m)\u001b[0m\u001b[1;33m\u001b[0m\u001b[1;33m\u001b[0m\u001b[0m\n",
      "\u001b[1;32m<ipython-input-33-5e0e4502450c>\u001b[0m in \u001b[0;36mUpdateBestValues\u001b[1;34m(positions_of_wolves, fitness_function, alpha, beta, delta)\u001b[0m\n\u001b[0;32m      4\u001b[0m \u001b[1;33m\u001b[0m\u001b[0m\n\u001b[0;32m      5\u001b[0m             \u001b[1;32mif\u001b[0m\u001b[1;33m(\u001b[0m\u001b[0mwolfs_fitness\u001b[0m \u001b[1;33m<\u001b[0m \u001b[0malpha\u001b[0m\u001b[1;33m.\u001b[0m\u001b[0mvalue\u001b[0m\u001b[1;33m)\u001b[0m\u001b[1;33m:\u001b[0m\u001b[1;33m\u001b[0m\u001b[1;33m\u001b[0m\u001b[0m\n\u001b[1;32m----> 6\u001b[1;33m                 \u001b[0mdelta\u001b[0m\u001b[1;33m.\u001b[0m\u001b[0mvalue\u001b[0m \u001b[1;33m=\u001b[0m \u001b[0mbeta\u001b[0m\u001b[1;33m.\u001b[0m\u001b[0mvalue\u001b[0m\u001b[1;33m\u001b[0m\u001b[1;33m\u001b[0m\u001b[0m\n\u001b[0m\u001b[0;32m      7\u001b[0m                 \u001b[0mdelta\u001b[0m\u001b[1;33m.\u001b[0m\u001b[0mposition\u001b[0m \u001b[1;33m=\u001b[0m \u001b[0mcopy\u001b[0m\u001b[1;33m.\u001b[0m\u001b[0mdeepcopy\u001b[0m\u001b[1;33m(\u001b[0m\u001b[0mbeta\u001b[0m\u001b[1;33m.\u001b[0m\u001b[0mposition\u001b[0m\u001b[1;33m)\u001b[0m\u001b[1;33m\u001b[0m\u001b[1;33m\u001b[0m\u001b[0m\n\u001b[0;32m      8\u001b[0m \u001b[1;33m\u001b[0m\u001b[0m\n",
      "\u001b[1;31mAttributeError\u001b[0m: can't set attribute"
     ]
    }
   ],
   "source": [
    "GWO(5, 3, 5, TestFitness, -100, 100)"
   ]
  },
  {
   "cell_type": "code",
   "execution_count": null,
   "metadata": {},
   "outputs": [],
   "source": []
  }
 ],
 "metadata": {
  "kernelspec": {
   "display_name": "Python 3",
   "language": "python",
   "name": "python3"
  },
  "language_info": {
   "codemirror_mode": {
    "name": "ipython",
    "version": 3
   },
   "file_extension": ".py",
   "mimetype": "text/x-python",
   "name": "python",
   "nbconvert_exporter": "python",
   "pygments_lexer": "ipython3",
   "version": "3.6.8"
  }
 },
 "nbformat": 4,
 "nbformat_minor": 2
}
