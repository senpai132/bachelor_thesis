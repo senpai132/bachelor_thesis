{
 "cells": [
  {
   "cell_type": "code",
   "execution_count": 13,
   "metadata": {},
   "outputs": [],
   "source": [
    "import random\n",
    "import numpy as np\n",
    "import math\n",
    "import copy\n",
    "import seaborn as sns"
   ]
  },
  {
   "cell_type": "code",
   "execution_count": 14,
   "metadata": {},
   "outputs": [],
   "source": [
    "class ImportantValue:\n",
    "    def __init__(self, position, value):\n",
    "        self.position = position\n",
    "        self.value = value"
   ]
  },
  {
   "cell_type": "code",
   "execution_count": 15,
   "metadata": {},
   "outputs": [],
   "source": [
    "def TestFitness(array):\n",
    "    return sum(array)"
   ]
  },
  {
   "cell_type": "code",
   "execution_count": 16,
   "metadata": {},
   "outputs": [],
   "source": [
    "def BukinN6(array):\n",
    "    under_sqrt = abs(array[1] - 0.01 * math.pow(array[0], 2))\n",
    "    return 100*math.sqrt(under_sqrt) + 0.01 * abs(array[0] + 10)"
   ]
  },
  {
   "cell_type": "code",
   "execution_count": 17,
   "metadata": {},
   "outputs": [],
   "source": [
    "def CrossInTray(array):\n",
    "    exp_part =  math.exp(abs(100 - math.sqrt(pow(array[0],2) + pow(array[1], 2))/ math.pi))\n",
    "    return -0.0001 * math.pow(abs(math.sin(array[0]) * math.sin(array[1]) * exp_part) + 1, 0.1)"
   ]
  },
  {
   "cell_type": "code",
   "execution_count": 18,
   "metadata": {},
   "outputs": [],
   "source": [
    "def Eggholder(array):\n",
    "    first_part = -(array[1] + 47) * math.sin(math.sqrt(abs(array[1] + array[0]/2 + 47)))\n",
    "    second_part = array[0] * math.sin(math.sqrt(abs(array[0] - (array[1]+47))))\n",
    "    return first_part - second_part"
   ]
  },
  {
   "cell_type": "code",
   "execution_count": 19,
   "metadata": {},
   "outputs": [],
   "source": [
    "def DropWave(array):\n",
    "    first_part = 1 + math.cos(12*math.sqrt(math.pow(array[0], 2) + math.pow(array[1],2)))\n",
    "    second_part = 0.5 * (math.pow(array[0], 2) + math.pow(array[1], 2)) + 2\n",
    "    return - (first_part / second_part)"
   ]
  },
  {
   "cell_type": "code",
   "execution_count": 20,
   "metadata": {},
   "outputs": [],
   "source": [
    "def Greiwank(array):\n",
    "    sum_part = sum(map(lambda x : math.pow(x, 2) / 4000, array))\n",
    "    mul_part = 1\n",
    "    for i in range(1, len(array)+1):\n",
    "        #mul_part *= array[i]/math.sqrt(i)\n",
    "        mul_part = mul_part * math.cos(array[i-1]/math.sqrt(i))\n",
    "    return sum_part - mul_part + 1"
   ]
  },
  {
   "cell_type": "code",
   "execution_count": 21,
   "metadata": {},
   "outputs": [],
   "source": [
    "def UpdateBestValues(positions_of_wolves, fitness_function, alpha, beta, delta):\n",
    "    for wolf in positions_of_wolves:\n",
    "        \n",
    "            wolfs_fitness = fitness_function(wolf)\n",
    "            \n",
    "            if(wolfs_fitness < alpha.value):\n",
    "                delta.value = beta.value\n",
    "                delta.position = beta.position.copy()#copy.deepcopy(beta.position)\n",
    "                \n",
    "                beta.value = alpha.value\n",
    "                beta.position = alpha.position.copy()#copy.deepcopy(alpha.position)\n",
    "                \n",
    "                alpha.value = wolfs_fitness\n",
    "                alpha.position = wolf.copy()#copy.deepcopy(wolf)\n",
    "                \n",
    "            if(wolfs_fitness > alpha.value and wolfs_fitness < beta.value):\n",
    "                delta.value = beta.value\n",
    "                delta.position = beta.position.copy()#copy.deepcopy(beta.position)\n",
    "                \n",
    "                beta.value = wolfs_fitness\n",
    "                beta.position = wolf.copy()#copy.deepcopy(wolf)\n",
    "                \n",
    "            if(wolfs_fitness > alpha.value and wolfs_fitness > beta.value and \n",
    "               wolfs_fitness < delta.value):\n",
    "                delta.value = wolfs_fitness\n",
    "                delta.position = wolf.copy()#copy.deepcopy(wolf)\n",
    "                "
   ]
  },
  {
   "cell_type": "code",
   "execution_count": 22,
   "metadata": {},
   "outputs": [],
   "source": [
    "def CalculateBestPosition(wolf, dim, important_position, a):\n",
    "    r1 = random.random()\n",
    "    r2 = random.random()\n",
    "\n",
    "    C = 2 * r2\n",
    "    A = (2 * a * r1) - a\n",
    "\n",
    "    Dx = (C * important_position.position[dim]) - wolf[dim]\n",
    "    X = important_position.position[dim] - (A * Dx)\n",
    "    #print X\n",
    "    return X"
   ]
  },
  {
   "cell_type": "code",
   "execution_count": 23,
   "metadata": {},
   "outputs": [],
   "source": [
    "def GWO(pack_size, number_of_dimensions, number_of_iterations, fitness_function, lower_bound, \n",
    "        upper_bound):\n",
    "    \n",
    "    convergency = []\n",
    "    \n",
    "    if not isinstance(lower_bound, list):\n",
    "        lower_bound = [lower_bound] * number_of_dimensions\n",
    "    if not isinstance(upper_bound, list):\n",
    "        upper_bound = [upper_bound] * number_of_dimensions\n",
    "    \n",
    "    alpha_position = np.zeros(number_of_dimensions)\n",
    "    alpha_value = float('inf')\n",
    "    alpha = ImportantValue(alpha_position, alpha_value)\n",
    "    \n",
    "    beta_position = np.zeros(number_of_dimensions)\n",
    "    beta_value = float('inf')\n",
    "    beta = ImportantValue(beta_position, beta_value)\n",
    "    \n",
    "    delta_position = np.zeros(number_of_dimensions)\n",
    "    delta_value = float('inf')\n",
    "    delta = ImportantValue(delta_position, delta_value)\n",
    "    \n",
    "    positions_of_wolves = np.zeros((pack_size, number_of_dimensions))\n",
    "                                       \n",
    "    for i in range(number_of_dimensions):\n",
    "        positions_of_wolves[:, i] = np.random.uniform(lower_bound[i], upper_bound[i], \n",
    "                                                pack_size)\n",
    "    \n",
    "    UpdateBestValues(positions_of_wolves, fitness_function, alpha, beta, delta)\n",
    "    \n",
    "    for iter in range(0, number_of_iterations):\n",
    "        a = 2 - (2/number_of_iterations) * iter\n",
    "        \n",
    "        for wolf in positions_of_wolves:\n",
    "            for dim in range(number_of_dimensions):\n",
    "                X1 = CalculateBestPosition(wolf, dim, alpha, a)\n",
    "                X2 = CalculateBestPosition(wolf, dim, beta, a)\n",
    "                X3 = CalculateBestPosition(wolf, dim, delta, a)\n",
    "                \n",
    "                wolf[dim] = (X1 + X2 + X3) / 3\n",
    "                \n",
    "                wolf[dim] = np.clip(wolf[dim], lower_bound[dim], upper_bound[dim])\n",
    "                \n",
    "        \n",
    "        UpdateBestValues(positions_of_wolves, fitness_function, alpha, beta, delta)\n",
    "        convergency.append(alpha.value)\n",
    " \n",
    "    return alpha, convergency"
   ]
  },
  {
   "cell_type": "code",
   "execution_count": 24,
   "metadata": {},
   "outputs": [
    {
     "name": "stdout",
     "output_type": "stream",
     "text": [
      "0.0\n",
      "[ 3.29173088e-09 -9.92270780e-09 -3.21536092e-09  1.51547713e-08\n",
      " -1.84549516e-08  1.23483223e-09  1.25674601e-09  1.39742048e-08\n",
      " -1.97327603e-08 -6.69663429e-09]\n"
     ]
    }
   ],
   "source": [
    "best_alpha = ImportantValue([0, 0], float('inf'))\n",
    "\n",
    "#for i in range(0, 20):\n",
    "alpha, convergency = GWO(10, 10, 20000, Greiwank, -600, 600)\n",
    "\n",
    "# if(alpha.value < best_alpha.value):\n",
    "#     best_alpha = alpha\n",
    "print(alpha.value)\n",
    "print(alpha.position)\n",
    "#sns.color_palette(\"bright\")\n",
    "#sns.lineplot(data=convergency)"
   ]
  },
  {
   "cell_type": "code",
   "execution_count": null,
   "metadata": {},
   "outputs": [],
   "source": []
  }
 ],
 "metadata": {
  "kernelspec": {
   "display_name": "Python 3",
   "language": "python",
   "name": "python3"
  },
  "language_info": {
   "codemirror_mode": {
    "name": "ipython",
    "version": 3
   },
   "file_extension": ".py",
   "mimetype": "text/x-python",
   "name": "python",
   "nbconvert_exporter": "python",
   "pygments_lexer": "ipython3",
   "version": "3.6.8"
  }
 },
 "nbformat": 4,
 "nbformat_minor": 2
}
